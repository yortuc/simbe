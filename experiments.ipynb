{
 "cells": [
  {
   "cell_type": "code",
   "execution_count": 30,
   "metadata": {},
   "outputs": [],
   "source": [
    "import re\n",
    "import os.path\n",
    "from markdown import markdown\n",
    "from os import listdir\n",
    "from os.path import isfile, join\n",
    "\n",
    "\n",
    "class Renderer:\n",
    "    def __init__(self, template_folder, template_path, content_folder, content_path, output_path):\n",
    "        self.template_path = template_path\n",
    "        self.content_path = content_path\n",
    "        self.template_folder = template_folder\n",
    "        self.output_path = output_path\n",
    "        self.content_folder = content_folder\n",
    "    \n",
    "    \n",
    "    def get_file_content(self, path):\n",
    "        file = open(path, 'r') \n",
    "        content = file.read()\n",
    "        file.close()\n",
    "        return content\n",
    "    \n",
    "    \n",
    "    def post_links(self):\n",
    "        # get posts directory\n",
    "        files = [f for f in listdir(self.content_folder) if isfile(join(self.content_folder, f))]\n",
    "    \n",
    "        # read all files, get titles and dates\n",
    "        ret = []\n",
    "        for file in files:\n",
    "            file_context = self.read_content(join(self.content_folder, file))\n",
    "\n",
    "            # if there is no title in the context, this is not a post, skip it\n",
    "            if 'title' not in file_context:\n",
    "                continue\n",
    "            \n",
    "            ret.append((file, file_context['title'], file_context['date']))\n",
    "        \n",
    "        return self.render_post_links(ret)\n",
    "       \n",
    "        \n",
    "    def render_post_links(self, posts):        \n",
    "        ret = []\n",
    "        for p in posts:\n",
    "            ret.append(f'<a href=\"{p[0].replace(\".md\", \".html\")}\">{p[1]}</a>')\n",
    "        return ''.join(ret)\n",
    "    \n",
    "        \n",
    "    def read_content(self, path):\n",
    "        # collect variables now\n",
    "        file = open(path, 'r')\n",
    "        lines = file.readlines()\n",
    "        file.close()\n",
    "        \n",
    "        # read lines, get the ones starting with\n",
    "        context = {}\n",
    "        content = []\n",
    "        \n",
    "        for line in lines:\n",
    "            if line[0] == '@':\n",
    "                name, val = line[1:].split(':')\n",
    "                context[name] = val.strip()\n",
    "            else:\n",
    "                content.append(line)\n",
    "                \n",
    "        context['content'] = markdown(''.join(content), extensions=['codehilite'])\n",
    "        \n",
    "        context['post_links'] = self.post_links\n",
    "        \n",
    "        return context\n",
    "    \n",
    "    \n",
    "    def render_template(self):\n",
    "        context = self.read_content(self.content_path)\n",
    "        template_content = self.get_file_content(self.template_path)\n",
    "        \n",
    "        # find <%SYMBOL%>\n",
    "        symbols = re.findall(r\"<\\%(.*?)\\%>\", template_content)\n",
    "        symbols = [k.replace('<%', '').replace('%>', '') for k in symbols]\n",
    "        \n",
    "        # resolve symbols with variables\n",
    "        for symbol in symbols:\n",
    "            # if symbol is file\n",
    "            file_path = f'{self.template_folder}\\\\{symbol}.html'\n",
    "            if os.path.isfile(file_path):\n",
    "                # read file content and replace\n",
    "                template_content = template_content.replace(f'<%{symbol}%>', self.get_file_content(file_path))\n",
    "            elif symbol in context:\n",
    "                # get val from context\n",
    "                value = None\n",
    "                \n",
    "                if callable(context[symbol]):\n",
    "                    value = context[symbol]()\n",
    "                else:\n",
    "                    value = context[symbol]\n",
    "    \n",
    "                template_content = template_content.replace(f'<%{symbol}%>', value)\n",
    "            else:\n",
    "                # throw error\n",
    "                raise Exception(f'Symbol cannot be resolved. No file \"{file_path}\", No variable in content as \"{symbol}\"')\n",
    "        \n",
    "        return template_content\n",
    "    \n",
    "    \n",
    "    def save_html(self):\n",
    "        file = open(self.output_path, 'w')\n",
    "        file.write(self.render_template())\n",
    "        file.close()"
   ]
  },
  {
   "cell_type": "code",
   "execution_count": 31,
   "metadata": {
    "scrolled": false
   },
   "outputs": [],
   "source": [
    "# render one post\n",
    "renderer = Renderer(\n",
    "    template_folder = '.\\\\template_default',\n",
    "    template_path   = '.\\\\template_default\\\\post.html',\n",
    "    content_folder  = '.\\\\posts',\n",
    "    content_path    = '.\\\\posts\\\\datalake-paths.md',\n",
    "    output_path     = '.\\\\output\\datalake-paths.html'\n",
    ")"
   ]
  },
  {
   "cell_type": "code",
   "execution_count": 32,
   "metadata": {},
   "outputs": [],
   "source": [
    "renderer.save_html()"
   ]
  },
  {
   "cell_type": "code",
   "execution_count": null,
   "metadata": {},
   "outputs": [],
   "source": []
  },
  {
   "cell_type": "code",
   "execution_count": 33,
   "metadata": {},
   "outputs": [],
   "source": [
    "# render index\n",
    "#   read context from a template fu\n",
    "#\n",
    "#\n",
    "\n",
    "renderer = Renderer(\n",
    "    template_folder = '.\\\\template_default',\n",
    "    template_path   = '.\\\\template_default\\\\index.html',\n",
    "    content_folder  = '.\\\\posts',\n",
    "    content_path    = '.\\\\posts\\\\index.md',\n",
    "    output_path     = '.\\\\output\\index.html'\n",
    ")"
   ]
  },
  {
   "cell_type": "code",
   "execution_count": 34,
   "metadata": {},
   "outputs": [
    {
     "ename": "UnboundLocalError",
     "evalue": "local variable 'file_context' referenced before assignment",
     "output_type": "error",
     "traceback": [
      "\u001b[1;31m---------------------------------------------------------------------------\u001b[0m",
      "\u001b[1;31mUnboundLocalError\u001b[0m                         Traceback (most recent call last)",
      "\u001b[1;32m<ipython-input-34-2bf286e7cd55>\u001b[0m in \u001b[0;36m<module>\u001b[1;34m\u001b[0m\n\u001b[1;32m----> 1\u001b[1;33m \u001b[0mrenderer\u001b[0m\u001b[1;33m.\u001b[0m\u001b[0msave_html\u001b[0m\u001b[1;33m(\u001b[0m\u001b[1;33m)\u001b[0m\u001b[1;33m\u001b[0m\u001b[1;33m\u001b[0m\u001b[0m\n\u001b[0m",
      "\u001b[1;32m<ipython-input-30-d6c503b9044c>\u001b[0m in \u001b[0;36msave_html\u001b[1;34m(self)\u001b[0m\n\u001b[0;32m    105\u001b[0m     \u001b[1;32mdef\u001b[0m \u001b[0msave_html\u001b[0m\u001b[1;33m(\u001b[0m\u001b[0mself\u001b[0m\u001b[1;33m)\u001b[0m\u001b[1;33m:\u001b[0m\u001b[1;33m\u001b[0m\u001b[1;33m\u001b[0m\u001b[0m\n\u001b[0;32m    106\u001b[0m         \u001b[0mfile\u001b[0m \u001b[1;33m=\u001b[0m \u001b[0mopen\u001b[0m\u001b[1;33m(\u001b[0m\u001b[0mself\u001b[0m\u001b[1;33m.\u001b[0m\u001b[0moutput_path\u001b[0m\u001b[1;33m,\u001b[0m \u001b[1;34m'w'\u001b[0m\u001b[1;33m)\u001b[0m\u001b[1;33m\u001b[0m\u001b[1;33m\u001b[0m\u001b[0m\n\u001b[1;32m--> 107\u001b[1;33m         \u001b[0mfile\u001b[0m\u001b[1;33m.\u001b[0m\u001b[0mwrite\u001b[0m\u001b[1;33m(\u001b[0m\u001b[0mself\u001b[0m\u001b[1;33m.\u001b[0m\u001b[0mrender_template\u001b[0m\u001b[1;33m(\u001b[0m\u001b[1;33m)\u001b[0m\u001b[1;33m)\u001b[0m\u001b[1;33m\u001b[0m\u001b[1;33m\u001b[0m\u001b[0m\n\u001b[0m\u001b[0;32m    108\u001b[0m         \u001b[0mfile\u001b[0m\u001b[1;33m.\u001b[0m\u001b[0mclose\u001b[0m\u001b[1;33m(\u001b[0m\u001b[1;33m)\u001b[0m\u001b[1;33m\u001b[0m\u001b[1;33m\u001b[0m\u001b[0m\n",
      "\u001b[1;32m<ipython-input-30-d6c503b9044c>\u001b[0m in \u001b[0;36mrender_template\u001b[1;34m(self)\u001b[0m\n\u001b[0;32m     91\u001b[0m \u001b[1;33m\u001b[0m\u001b[0m\n\u001b[0;32m     92\u001b[0m                 \u001b[1;32mif\u001b[0m \u001b[0mcallable\u001b[0m\u001b[1;33m(\u001b[0m\u001b[0mcontext\u001b[0m\u001b[1;33m[\u001b[0m\u001b[0msymbol\u001b[0m\u001b[1;33m]\u001b[0m\u001b[1;33m)\u001b[0m\u001b[1;33m:\u001b[0m\u001b[1;33m\u001b[0m\u001b[1;33m\u001b[0m\u001b[0m\n\u001b[1;32m---> 93\u001b[1;33m                     \u001b[0mvalue\u001b[0m \u001b[1;33m=\u001b[0m \u001b[0mcontext\u001b[0m\u001b[1;33m[\u001b[0m\u001b[0msymbol\u001b[0m\u001b[1;33m]\u001b[0m\u001b[1;33m(\u001b[0m\u001b[1;33m)\u001b[0m\u001b[1;33m\u001b[0m\u001b[1;33m\u001b[0m\u001b[0m\n\u001b[0m\u001b[0;32m     94\u001b[0m                 \u001b[1;32melse\u001b[0m\u001b[1;33m:\u001b[0m\u001b[1;33m\u001b[0m\u001b[1;33m\u001b[0m\u001b[0m\n\u001b[0;32m     95\u001b[0m                     \u001b[0mvalue\u001b[0m \u001b[1;33m=\u001b[0m \u001b[0mcontext\u001b[0m\u001b[1;33m[\u001b[0m\u001b[0msymbol\u001b[0m\u001b[1;33m]\u001b[0m\u001b[1;33m\u001b[0m\u001b[1;33m\u001b[0m\u001b[0m\n",
      "\u001b[1;32m<ipython-input-30-d6c503b9044c>\u001b[0m in \u001b[0;36mpost_links\u001b[1;34m(self)\u001b[0m\n\u001b[0;32m     31\u001b[0m \u001b[1;33m\u001b[0m\u001b[0m\n\u001b[0;32m     32\u001b[0m             \u001b[1;31m# if there is no title in the context, this is not a post, skip it\u001b[0m\u001b[1;33m\u001b[0m\u001b[1;33m\u001b[0m\u001b[1;33m\u001b[0m\u001b[0m\n\u001b[1;32m---> 33\u001b[1;33m             \u001b[1;32mif\u001b[0m \u001b[1;34m'title'\u001b[0m \u001b[1;32mnot\u001b[0m \u001b[1;32min\u001b[0m \u001b[0mfile_context\u001b[0m\u001b[1;33m:\u001b[0m\u001b[1;33m\u001b[0m\u001b[1;33m\u001b[0m\u001b[0m\n\u001b[0m\u001b[0;32m     34\u001b[0m                 \u001b[1;32mcontinue\u001b[0m\u001b[1;33m\u001b[0m\u001b[1;33m\u001b[0m\u001b[0m\n\u001b[0;32m     35\u001b[0m \u001b[1;33m\u001b[0m\u001b[0m\n",
      "\u001b[1;31mUnboundLocalError\u001b[0m: local variable 'file_context' referenced before assignment"
     ]
    }
   ],
   "source": [
    "renderer.save_html()"
   ]
  },
  {
   "cell_type": "code",
   "execution_count": 21,
   "metadata": {},
   "outputs": [],
   "source": [
    "# render index\n",
    "#   read context from a template fu\n",
    "#\n",
    "#\n",
    "\n",
    "renderer = Renderer(\n",
    "    template_folder = '.\\\\template_default',\n",
    "    template_path   = '.\\\\template_default\\\\post.html',\n",
    "    content_folder  = '.\\\\posts',\n",
    "    content_path    = '.\\\\posts\\\\about.md',\n",
    "    output_path     = '.\\\\output\\\\about.html'\n",
    ")"
   ]
  },
  {
   "cell_type": "code",
   "execution_count": 22,
   "metadata": {},
   "outputs": [],
   "source": [
    "renderer.save_html()"
   ]
  },
  {
   "cell_type": "code",
   "execution_count": null,
   "metadata": {},
   "outputs": [],
   "source": []
  }
 ],
 "metadata": {
  "kernelspec": {
   "display_name": "Python 3.7.4 64-bit",
   "language": "python",
   "name": "python37464bit6d2567718cbd4bf69fe2f6c1c256b57d"
  },
  "language_info": {
   "codemirror_mode": {
    "name": "ipython",
    "version": 3
   },
   "file_extension": ".py",
   "mimetype": "text/x-python",
   "name": "python",
   "nbconvert_exporter": "python",
   "pygments_lexer": "ipython3",
   "version": "3.7.4"
  }
 },
 "nbformat": 4,
 "nbformat_minor": 2
}
