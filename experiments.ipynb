{
 "cells": [
  {
   "cell_type": "code",
   "execution_count": 12,
   "metadata": {},
   "outputs": [],
   "source": [
    "!pip install Pygments>=2.3.1"
   ]
  },
  {
   "cell_type": "code",
   "execution_count": 55,
   "metadata": {},
   "outputs": [],
   "source": [
    "import re\n",
    "import os.path\n",
    "from markdown import markdown\n",
    "\n",
    "\n",
    "class Renderer:\n",
    "    def __init__(self, template_folder, template_path, content_path, output_path):\n",
    "        self.template_path = template_path\n",
    "        self.content_path = content_path\n",
    "        self.template_folder = template_folder\n",
    "        self.output_path = output_path\n",
    "    \n",
    "    \n",
    "    def get_file_content(self, path):\n",
    "        file = open(path, 'r') \n",
    "        content = file.read()\n",
    "        file.close()\n",
    "        return content\n",
    "    \n",
    "    \n",
    "    def read_content(self):\n",
    "        # collect variables now\n",
    "        file = open(self.content_path, 'r')\n",
    "        lines = file.readlines()\n",
    "        file.close()\n",
    "        \n",
    "        # read lines, get the ones starting with\n",
    "        context = {}\n",
    "        content = []\n",
    "        \n",
    "        for line in lines:\n",
    "            if line[0] == '@':\n",
    "                name, val = line[1:].split(':')\n",
    "                context[name] = val.strip()\n",
    "            else:\n",
    "                content.append(line)\n",
    "                \n",
    "        context['content'] = markdown(''.join(content), extensions=['codehilite'])\n",
    "        \n",
    "        return context\n",
    "    \n",
    "    \n",
    "    def render_template(self):\n",
    "        context = self.read_content()\n",
    "        template_content = self.get_file_content(self.template_path)\n",
    "        \n",
    "        # find <%SYMBOL%>\n",
    "        symbols = re.findall(r\"<\\%(.*?)\\%>\", template_content)\n",
    "        symbols = [k.replace('<%', '').replace('%>', '') for k in symbols]\n",
    "        \n",
    "        # resolve symbols with variables\n",
    "        for symbol in symbols:\n",
    "            # if symbol is file\n",
    "            file_path = f'{self.template_folder}\\\\{symbol}.html'\n",
    "            if os.path.isfile(file_path):\n",
    "                # read file content and replace\n",
    "                template_content = template_content.replace(f'<%{symbol}%>', self.get_file_content(file_path))\n",
    "            elif symbol in context:\n",
    "                # get val from context\n",
    "                template_content = template_content.replace(f'<%{symbol}%>', context[symbol])\n",
    "            else:\n",
    "                # throw error\n",
    "                raise Exception(f'Symbol cannot be resolved. No file \"{file_path}\", No variable in content as \"{symbol}\"')\n",
    "        \n",
    "        return template_content\n",
    "    \n",
    "    \n",
    "    def save_html(self):\n",
    "        file = open(self.output_path, 'w')\n",
    "        file.write(self.render_template())\n",
    "        file.close()"
   ]
  },
  {
   "cell_type": "code",
   "execution_count": 58,
   "metadata": {
    "scrolled": false
   },
   "outputs": [],
   "source": [
    "# render one post\n",
    "Renderer(\n",
    "    template_folder = '.\\\\template_default',\n",
    "    template_path   = '.\\\\template_default\\\\post.html', \n",
    "    content_path    = '.\\\\posts\\\\datalake-paths.md',\n",
    "    output_path     = '.\\\\output\\datalake-paths.html'\n",
    ").save_html()"
   ]
  },
  {
   "cell_type": "code",
   "execution_count": null,
   "metadata": {},
   "outputs": [],
   "source": []
  },
  {
   "cell_type": "code",
   "execution_count": 63,
   "metadata": {},
   "outputs": [],
   "source": [
    "class IndexRenderer(Renderer):\n",
    "    pass"
   ]
  },
  {
   "cell_type": "code",
   "execution_count": 64,
   "metadata": {},
   "outputs": [],
   "source": [
    "c = IndexRenderer(\n",
    "    template_folder = '.\\\\template_default',\n",
    "    template_path   = '.\\\\template_default\\\\post.html', \n",
    "    content_path    = '.\\\\posts\\\\datalake-paths.md',\n",
    "    output_path     = '.\\\\output\\datalake-paths.html'\n",
    ")"
   ]
  },
  {
   "cell_type": "code",
   "execution_count": null,
   "metadata": {},
   "outputs": [],
   "source": [
    "# render index\n",
    "IndexRenderer(\n",
    "    template_folder = '.\\\\template_default',\n",
    "    template_path   = '.\\\\template_default\\\\index.html', \n",
    "    content_path    = '.\\\\posts',\n",
    "    output_path     = '.\\\\output\\index.html'\n",
    ").save_html()"
   ]
  }
 ],
 "metadata": {
  "kernelspec": {
   "display_name": "Python 3.7.4 64-bit",
   "language": "python",
   "name": "python37464bit6d2567718cbd4bf69fe2f6c1c256b57d"
  },
  "language_info": {
   "codemirror_mode": {
    "name": "ipython",
    "version": 3
   },
   "file_extension": ".py",
   "mimetype": "text/x-python",
   "name": "python",
   "nbconvert_exporter": "python",
   "pygments_lexer": "ipython3",
   "version": "3.7.4"
  }
 },
 "nbformat": 4,
 "nbformat_minor": 2
}
