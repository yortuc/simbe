{
 "cells": [
  {
   "cell_type": "code",
   "execution_count": 12,
   "metadata": {},
   "outputs": [],
   "source": [
    "!pip install Pygments>=2.3.1"
   ]
  },
  {
   "cell_type": "code",
   "execution_count": 37,
   "metadata": {},
   "outputs": [],
   "source": [
    "import re\n",
    "import os.path\n",
    "from markdown import markdown\n",
    "from os import listdir\n",
    "from os.path import isfile, join\n",
    "\n",
    "\n",
    "class Renderer:\n",
    "    def __init__(self, template_folder, template_path, content_folder, content_path, output_path):\n",
    "        self.template_path = template_path\n",
    "        self.content_path = content_path\n",
    "        self.template_folder = template_folder\n",
    "        self.output_path = output_path\n",
    "        self.content_folder = content_folder\n",
    "    \n",
    "    \n",
    "    def get_file_content(self, path):\n",
    "        file = open(path, 'r') \n",
    "        content = file.read()\n",
    "        file.close()\n",
    "        return content\n",
    "    \n",
    "    \n",
    "    def post_links(self):\n",
    "        # get posts directory\n",
    "        files = [f for f in listdir(self.content_folder) if isfile(join(self.content_folder, f))]\n",
    "    \n",
    "        # read all files, get titles and dates\n",
    "        ret = []\n",
    "        for file in files:\n",
    "            file_context = self.read_content(join(self.content_folder, file))\n",
    "            ret.append((file, file_context['title'], file_context['date']))\n",
    "        return ret\n",
    "       \n",
    "        \n",
    "    def render_post_links(self, posts):\n",
    "        ret = []\n",
    "        for post in posts:\n",
    "            ret.append(f'<a href=\"/{post[0]}\">{post[1]}</a>')\n",
    "        return ''.join(ret)\n",
    "    \n",
    "        \n",
    "    def read_content(self, path):\n",
    "        # collect variables now\n",
    "        file = open(path, 'r')\n",
    "        lines = file.readlines()\n",
    "        file.close()\n",
    "        \n",
    "        # read lines, get the ones starting with\n",
    "        context = {}\n",
    "        content = []\n",
    "        \n",
    "        for line in lines:\n",
    "            if line[0] == '@':\n",
    "                name, val = line[1:].split(':')\n",
    "                context[name] = val.strip()\n",
    "            else:\n",
    "                content.append(line)\n",
    "                \n",
    "        context['content'] = markdown(''.join(content), extensions=['codehilite'])\n",
    "        \n",
    "        context['post_links'] = self.render_post_links\n",
    "        \n",
    "        return context\n",
    "    \n",
    "    \n",
    "    def render_template(self):\n",
    "        context = self.read_content(self.content_path)\n",
    "        template_content = self.get_file_content(self.template_path)\n",
    "        \n",
    "        # find <%SYMBOL%>\n",
    "        symbols = re.findall(r\"<\\%(.*?)\\%>\", template_content)\n",
    "        symbols = [k.replace('<%', '').replace('%>', '') for k in symbols]\n",
    "        \n",
    "        # resolve symbols with variables\n",
    "        for symbol in symbols:\n",
    "            # if symbol is file\n",
    "            file_path = f'{self.template_folder}\\\\{symbol}.html'\n",
    "            if os.path.isfile(file_path):\n",
    "                # read file content and replace\n",
    "                template_content = template_content.replace(f'<%{symbol}%>', self.get_file_content(file_path))\n",
    "            elif symbol in context:\n",
    "                # get val from context\n",
    "                value = None\n",
    "                \n",
    "                if callable(context[symbol]):\n",
    "                    value = context[symbol]()\n",
    "                else:\n",
    "                    value = context[symbol]\n",
    "    \n",
    "                template_content = template_content.replace(f'<%{symbol}%>', value)\n",
    "            else:\n",
    "                # throw error\n",
    "                raise Exception(f'Symbol cannot be resolved. No file \"{file_path}\", No variable in content as \"{symbol}\"')\n",
    "        \n",
    "        return template_content\n",
    "    \n",
    "    \n",
    "    def save_html(self):\n",
    "        file = open(self.output_path, 'w')\n",
    "        file.write(self.render_template())\n",
    "        file.close()"
   ]
  },
  {
   "cell_type": "code",
   "execution_count": 38,
   "metadata": {
    "scrolled": false
   },
   "outputs": [],
   "source": [
    "# render one post\n",
    "renderer = Renderer(\n",
    "    template_folder = '.\\\\template_default',\n",
    "    template_path   = '.\\\\template_default\\\\post.html',\n",
    "    content_folder  = '.\\\\posts',\n",
    "    content_path    = '.\\\\posts\\\\datalake-paths.md',\n",
    "    output_path     = '.\\\\output\\datalake-paths.html'\n",
    ")"
   ]
  },
  {
   "cell_type": "code",
   "execution_count": 39,
   "metadata": {},
   "outputs": [
    {
     "data": {
      "text/plain": [
       "'<a href=\"/datalake-paths.md\">DataLake Paths Structure</a>'"
      ]
     },
     "execution_count": 39,
     "metadata": {},
     "output_type": "execute_result"
    }
   ],
   "source": [
    "renderer.render_post_links(renderer.post_links())"
   ]
  },
  {
   "cell_type": "code",
   "execution_count": 24,
   "metadata": {},
   "outputs": [],
   "source": [
    "renderer.save_html()"
   ]
  },
  {
   "cell_type": "code",
   "execution_count": null,
   "metadata": {},
   "outputs": [],
   "source": []
  },
  {
   "cell_type": "code",
   "execution_count": null,
   "metadata": {},
   "outputs": [],
   "source": [
    "# render one post\n",
    "renderer = Renderer(\n",
    "    template_folder = '.\\\\template_default',\n",
    "    template_path   = '.\\\\template_default\\\\index.html',\n",
    "    content_folder  = '.\\\\posts',\n",
    "    content_path    = '.\\\\posts\\\\datalake-paths.md',\n",
    "    output_path     = '.\\\\output\\datalake-paths.html'\n",
    ")"
   ]
  },
  {
   "cell_type": "code",
   "execution_count": null,
   "metadata": {},
   "outputs": [],
   "source": []
  }
 ],
 "metadata": {
  "kernelspec": {
   "display_name": "Python 3.7.4 64-bit",
   "language": "python",
   "name": "python37464bit6d2567718cbd4bf69fe2f6c1c256b57d"
  },
  "language_info": {
   "codemirror_mode": {
    "name": "ipython",
    "version": 3
   },
   "file_extension": ".py",
   "mimetype": "text/x-python",
   "name": "python",
   "nbconvert_exporter": "python",
   "pygments_lexer": "ipython3",
   "version": "3.7.4"
  }
 },
 "nbformat": 4,
 "nbformat_minor": 2
}
